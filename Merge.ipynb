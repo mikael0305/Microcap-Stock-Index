{
 "cells": [
  {
   "cell_type": "code",
   "execution_count": 19,
   "id": "initial_id",
   "metadata": {
    "collapsed": true,
    "ExecuteTime": {
     "end_time": "2024-01-19T01:49:04.598986Z",
     "start_time": "2024-01-19T01:49:04.592578Z"
    }
   },
   "outputs": [],
   "source": [
    "import pandas as pd"
   ]
  },
  {
   "cell_type": "code",
   "outputs": [],
   "source": [
    "def read_csv_files(file_paths):\n",
    "    \"\"\"\n",
    "    本函数用于读取所有的CSV文件并存入多个Dataframe中。\n",
    "    :param file_paths: 一个或多个文件路径 \n",
    "    :return: 一个或多个Dataframe\n",
    "    \"\"\"\n",
    "    dfs = []\n",
    "    for i, path in enumerate(file_paths):\n",
    "        dfs.append(pd.read_csv(path, index_col=0).stack())\n",
    "    return dfs"
   ],
   "metadata": {
    "collapsed": false,
    "ExecuteTime": {
     "end_time": "2024-01-19T01:49:04.617121Z",
     "start_time": "2024-01-19T01:49:04.603050Z"
    }
   },
   "id": "7cb420a84d0bd601",
   "execution_count": 20
  },
  {
   "cell_type": "code",
   "outputs": [],
   "source": [
    "def determine_status_sign(status):\n",
    "    \"\"\"\n",
    "    本函数用于处理异常的股票，给股票打上标签，如果成分异常，则打上-1；如果成分正常或者由异常变为正常，则打上1。\n",
    "    1\tST\n",
    "    3\tPT\n",
    "    2\t撤销ST\n",
    "    5\t*ST\n",
    "    7\t撤消*ST并实行ST\n",
    "    8\t从ST变为*ST\n",
    "    12\t叠加ST\n",
    "    6\t撤销*ST\n",
    "    9\t退市整理期\n",
    "    4\t撤销PT\n",
    "    13\t撤销叠加ST\n",
    "    14\t叠加*ST\n",
    "    15\t撤销叠加*ST\n",
    "    10\t高风险警示\n",
    "    11\t撤销高风险警示\n",
    "    :param status: 成分异常的表中有一列名为status，根据status的值分别给股票打上标签\n",
    "    :return: 返回一个具有标签的Dataframe\n",
    "    \"\"\"\n",
    "    if status in [1, 5, 7, 8, 9, 12, 13, 14]:\n",
    "        return -1\n",
    "    elif status in [2, 3, 4, 6]:\n",
    "        return 1\n",
    "    else:\n",
    "        return None"
   ],
   "metadata": {
    "collapsed": false,
    "ExecuteTime": {
     "end_time": "2024-01-19T01:49:04.617744Z",
     "start_time": "2024-01-19T01:49:04.609663Z"
    }
   },
   "id": "e8c29ebbd8d30600",
   "execution_count": 21
  },
  {
   "cell_type": "code",
   "outputs": [],
   "source": [
    "def merge_dataframes(list_of_dfs):\n",
    "    # 使用 concat 方法按列合并 DataFrame\n",
    "    merged_df = pd.concat(list_of_dfs, axis=1)\n",
    "    return merged_df"
   ],
   "metadata": {
    "collapsed": false,
    "ExecuteTime": {
     "end_time": "2024-01-19T01:49:04.617989Z",
     "start_time": "2024-01-19T01:49:04.613992Z"
    }
   },
   "id": "260ab0d36326c9d0",
   "execution_count": 22
  },
  {
   "cell_type": "code",
   "outputs": [],
   "source": [
    "file_paths = [\n",
    "    'data/昨收价.csv',  # 昨收价\n",
    "    'data/收盘价.csv',  # 收盘价\n",
    "    'data/昨开盘.csv',  # 做开盘价\n",
    "    'data/开盘价.csv',  # 开盘价\n",
    "    'data/涨停价.csv',  # 涨停价\n",
    "    'data/涨跌幅.csv'  # 涨跌幅\n",
    "#     '筛选涨跌幅.csv'\n",
    "]\n",
    "\n",
    "df_pre_close, df_close, df_pre_open, df_open, df_stopin, df_ud = read_csv_files(file_paths)"
   ],
   "metadata": {
    "collapsed": false,
    "ExecuteTime": {
     "end_time": "2024-01-19T01:49:20.147593Z",
     "start_time": "2024-01-19T01:49:04.619729Z"
    }
   },
   "id": "2fead539f18b607d",
   "execution_count": 23
  },
  {
   "cell_type": "code",
   "outputs": [],
   "source": [
    "df_st = pd.read_csv('data/st表.csv', index_col=0)\n",
    "# 利用-1和1区别status数值，并存在status sign中\n",
    "df_st['sign'] = df_st['SpecialTradeType'].apply(determine_status_sign)\n",
    "# 删除inner_id和status，只保留日期day，股票名字id和status sign\n",
    "df_st = df_st.drop(df_st.columns[[0, 2]], axis=1)\n",
    "# 将两列打成一行z一列，index为day列，行为id列，数值则是status sign\n",
    "df_ST_pivot = df_st.pivot(index='SpecialTradeTime', columns='SecuCode', values='sign')\n",
    "df_ST_pivot.index = pd.to_datetime(df_ST_pivot.index)\n",
    "df_ST_pivot = df_ST_pivot.resample('D').asfreq()\n",
    "# 向后传播填写NaN，再把其他的NaN填充为1\n",
    "df_ST_pivot = df_ST_pivot.ffill().fillna(1)\n",
    "# 补充日期，从1988.4.28到2023.12.18\n",
    "date_range = pd.date_range(start='1988-04-28', end='2023-12-29', freq='D')\n",
    "# 填充日期，如果是全量数据就不需要这个数据\n",
    "df_ST_pivot = df_ST_pivot.reindex(date_range)\n",
    "df_ST_pivot = df_ST_pivot.ffill().fillna(1)\n",
    "df_ST_pivot.index.name = 'day'\n",
    "df_ST_pivot.rename(columns={'0': 'sign'}, inplace=True)\n",
    "# 将dataframe变成mutindex，方便之后merge\n",
    "df_ST_stack = pd.DataFrame(df_ST_pivot.stack())\n",
    "df_ST_stack.columns = ['sign']\n",
    "df_ST_stack.index.names = None, None"
   ],
   "metadata": {
    "collapsed": false,
    "ExecuteTime": {
     "end_time": "2024-01-19T01:49:20.413058Z",
     "start_time": "2024-01-19T01:49:20.147813Z"
    }
   },
   "id": "24238cad0864e280",
   "execution_count": 24
  },
  {
   "cell_type": "code",
   "outputs": [],
   "source": [
    "df = pd.read_csv('data/昨总股本.csv', index_col=0)\n",
    "df = df.stack()\n",
    "df = pd.DataFrame(df)\n",
    "df.columns = ['pre_number']"
   ],
   "metadata": {
    "collapsed": false,
    "ExecuteTime": {
     "end_time": "2024-01-19T01:49:24.957294Z",
     "start_time": "2024-01-19T01:49:20.413459Z"
    }
   },
   "id": "3bc5d1502e1c2a09",
   "execution_count": 25
  },
  {
   "cell_type": "code",
   "outputs": [],
   "source": [
    "# 刚上市的股票没有资格进入成分股，只有非涨停日第三天才能选入成分股\n",
    "df1 = pd.read_csv('data/购买信息.csv', index_col=0)\n",
    "df1 = df1.stack()\n",
    "df1 = pd.DataFrame(df1)\n",
    "df1.columns = ['tradable']"
   ],
   "metadata": {
    "collapsed": false,
    "ExecuteTime": {
     "end_time": "2024-01-19T01:49:27.306174Z",
     "start_time": "2024-01-19T01:49:24.956606Z"
    }
   },
   "id": "470bd4d0d9882197",
   "execution_count": 26
  },
  {
   "cell_type": "code",
   "outputs": [],
   "source": [
    "merge_df = merge_dataframes([df_pre_close, df_close, df_pre_open, df_open, df_stopin, df_ud])\n",
    "merge_df.columns = ['pre_close', 'close','pre_open', 'open', 'stopin', 'ud']\n",
    "\n",
    "merge_df = pd.merge(merge_df, df, left_index=True, right_index=True, how='left')\n",
    "merge_df = pd.merge(merge_df, df1, left_index=True, right_index=True, how='left')\n",
    "\n",
    "merge_df['pre_close'] = merge_df.pre_close.astype(float).fillna(0)\n",
    "merge_df['pre_number'] = merge_df.pre_number.astype(float).fillna(0)\n",
    "merge_df['value'] = merge_df['pre_close'] * merge_df['pre_number']\n",
    "merge_df = merge_df.fillna(0)\n",
    "\n",
    "merge_df = pd.merge(merge_df, df_ST_stack, left_index=True, right_index=True, how='left')\n",
    "merge_df = merge_df.fillna(1)\n",
    "merge_df.index.names = ['day', 'id']"
   ],
   "metadata": {
    "collapsed": false,
    "ExecuteTime": {
     "end_time": "2024-01-19T01:50:14.189794Z",
     "start_time": "2024-01-19T01:49:27.302063Z"
    }
   },
   "id": "fb209c044f01e8fe",
   "execution_count": 27
  },
  {
   "cell_type": "code",
   "outputs": [
    {
     "name": "stdout",
     "output_type": "stream",
     "text": [
      "                      pre_close  close  pre_open   open  stopin      ud  \\\n",
      "day        id                                                             \n",
      "2000-01-04 000001.SZ      17.45  18.29     17.47  17.50   19.20  4.8138   \n",
      "           000002.SZ       9.75  10.30      9.70   9.80   10.73  5.6410   \n",
      "           000003.SZ       5.47   5.74      5.50   5.48    6.02  4.9360   \n",
      "           000004.SZ       8.51   8.74      8.69   8.55    9.36  2.7027   \n",
      "           000005.SZ       6.04   6.24      6.08   6.10    6.64  3.3113   \n",
      "...                         ...    ...       ...    ...     ...     ...   \n",
      "2023-12-29 688799.SH      47.21  48.94     47.69  47.22   51.93  3.6645   \n",
      "           688800.SH      39.52  40.18     37.42  39.50   43.47  1.6700   \n",
      "           688819.SH      27.91  27.92     27.02  28.00   30.70  0.0358   \n",
      "           688981.SH      53.13  53.02     51.70  53.00   58.44 -0.2070   \n",
      "           689009.SH      29.20  29.66     28.58  29.25   32.12  1.5753   \n",
      "\n",
      "                        pre_number  tradable         value  sign  \n",
      "day        id                                                     \n",
      "2000-01-04 000001.SZ  1.551847e+09       1.0  2.707973e+10   1.0  \n",
      "           000002.SZ  5.455375e+08       1.0  5.318990e+09   1.0  \n",
      "           000003.SZ  3.334336e+08       1.0  1.823882e+09   1.0  \n",
      "           000004.SZ  8.397668e+07       1.0  7.146416e+08  -1.0  \n",
      "           000005.SZ  5.180175e+08       1.0  3.128826e+09   1.0  \n",
      "...                            ...       ...           ...   ...  \n",
      "2023-12-29 688799.SH  9.380000e+07       1.0  4.428298e+09   1.0  \n",
      "           688800.SH  1.584199e+08       1.0  6.260753e+09   1.0  \n",
      "           688819.SH  9.721000e+08       1.0  2.713131e+10   1.0  \n",
      "           688981.SH  7.946542e+09       1.0  4.221998e+11   1.0  \n",
      "           689009.SH  0.000000e+00       0.0  0.000000e+00   1.0  \n",
      "\n",
      "[30987648 rows x 10 columns]\n"
     ]
    }
   ],
   "source": [
    "print(merge_df)"
   ],
   "metadata": {
    "collapsed": false,
    "ExecuteTime": {
     "end_time": "2024-01-19T01:50:14.287918Z",
     "start_time": "2024-01-19T01:50:14.141948Z"
    }
   },
   "id": "1975d6a5e460aefd",
   "execution_count": 28
  },
  {
   "cell_type": "code",
   "outputs": [],
   "source": [
    "merge_df.to_csv('处理过的全量数据.csv')"
   ],
   "metadata": {
    "collapsed": false,
    "ExecuteTime": {
     "end_time": "2024-01-19T01:52:00.595683Z",
     "start_time": "2024-01-19T01:50:14.163591Z"
    }
   },
   "id": "2ce0fa8c073907cf",
   "execution_count": 29
  }
 ],
 "metadata": {
  "kernelspec": {
   "display_name": "Python 3",
   "language": "python",
   "name": "python3"
  },
  "language_info": {
   "codemirror_mode": {
    "name": "ipython",
    "version": 2
   },
   "file_extension": ".py",
   "mimetype": "text/x-python",
   "name": "python",
   "nbconvert_exporter": "python",
   "pygments_lexer": "ipython2",
   "version": "2.7.6"
  }
 },
 "nbformat": 4,
 "nbformat_minor": 5
}
